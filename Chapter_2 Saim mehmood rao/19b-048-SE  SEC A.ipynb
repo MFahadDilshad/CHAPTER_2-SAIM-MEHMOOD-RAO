{
 "cells": [
  {
   "cell_type": "markdown",
   "metadata": {},
   "source": [
    "# practice problem 2.1\n"
   ]
  },
  {
   "cell_type": "code",
   "execution_count": 1,
   "metadata": {},
   "outputs": [
    {
     "name": "stdout",
     "output_type": "stream",
     "text": [
      "15\n",
      "24.333333333333332\n",
      "5\n",
      "1\n",
      "1024\n",
      "3\n",
      "29.95\n"
     ]
    }
   ],
   "source": [
    "# a)\n",
    "sum=1+2+3+4+5\n",
    "print (sum)\n",
    "# b)\n",
    "avg=(23+19+31)/3\n",
    "print(avg)\n",
    "# c)\n",
    "t=403//73\n",
    "print(t)\n",
    "# d)\n",
    "rem=403%3\n",
    "print(rem)\n",
    "# e)\n",
    "exp=2**10\n",
    "print(exp)\n",
    "# f)\n",
    "a=abs(54-57)\n",
    "print(a)\n",
    "# g)\n",
    "MIN=min(34.99,29.95,31.50)\n",
    "print(MIN)\n"
   ]
  },
  {
   "cell_type": "markdown",
   "metadata": {},
   "source": [
    "# practice problem 2.2"
   ]
  },
  {
   "cell_type": "code",
   "execution_count": 1,
   "metadata": {},
   "outputs": [
    {
     "name": "stdout",
     "output_type": "stream",
     "text": [
      "True\n",
      "False\n",
      "True\n",
      "False\n",
      "True\n",
      "False\n",
      "True\n"
     ]
    }
   ],
   "source": [
    "#c)\n",
    "print(3**2+4**2==25)\n",
    "\n",
    "#d)\n",
    "print(2+4+6>12)\n",
    "\n",
    "#e)\n",
    "print(1387%19==0)\n",
    "\n",
    "#f)\n",
    "print(31%2==0)\n",
    "\n",
    "#g)\n",
    "print(min(34.99,29.95,31.50)<30.00)\n",
    "\n",
    "#a)\n",
    "print(2+2<4)\n",
    "\n",
    "#b)\n",
    "print(7//3==1+1)\n"
   ]
  },
  {
   "cell_type": "markdown",
   "metadata": {},
   "source": [
    "# practice problem 2.3"
   ]
  },
  {
   "cell_type": "code",
   "execution_count": 2,
   "metadata": {},
   "outputs": [
    {
     "name": "stdout",
     "output_type": "stream",
     "text": [
      "3\n",
      "4\n",
      "25\n"
     ]
    }
   ],
   "source": [
    "#a)\n",
    "a=3\n",
    "print(a)\n",
    "#b)\n",
    "b=4\n",
    "print(b)\n",
    "#c)\n",
    "c=a*a+b*b\n",
    "print(c)"
   ]
  },
  {
   "cell_type": "markdown",
   "metadata": {},
   "source": [
    "# practice problem 2.4"
   ]
  },
  {
   "cell_type": "code",
   "execution_count": 3,
   "metadata": {},
   "outputs": [
    {
     "name": "stdout",
     "output_type": "stream",
     "text": [
      "ant  bat cod\n",
      "ant ant ant ant ant ant ant ant ant ant \n",
      "ant bat bat cod cod cod \n",
      "ant bat  ant bat ant bat ant bat ant bat ant bat ant bat ant bat\n",
      "batbatcod batbatcod batbatcod batbatcod batbatcod batbatcod\n"
     ]
    }
   ],
   "source": [
    "s1='ant'\n",
    "s2='bat'\n",
    "s3='cod'\n",
    "#(a)\n",
    "print(s1 + ' ' + ' ' + s2 + ' ' +  '' + s3)\n",
    "#(b)\n",
    "print((s1 + ' ') *10)\n",
    "#(c)\n",
    "print(s1 +' ' + (s2 + ' ')*2 + (s3 + ' ')*3)\n",
    "#(d)\n",
    "print(s1 + ' ' + s2 + ' ' +' ' + s1 + ' ' + s2 + ' ' + s1 + ' ' + s2 + ' ' + s1 + ' ' + s2 + ' ' + s1 + ' ' + s2 + ' ' + s1 + ' ' + s2 + ' ' + s1 + ' ' + s2 + ' ' + s1 + ' ' + s2)\n",
    "#(e)\n",
    "print(s2 + s2 + s3 + ' ' + s2 + s2 + s3 + ' ' + s2 + s2 + s3 + ' ' + s2 + s2 + s3 + ' ' + s2 + s2 + s3+ ' ' + s2 + s2 + s3)\n"
   ]
  },
  {
   "cell_type": "markdown",
   "metadata": {},
   "source": [
    "# practice problem 2.5"
   ]
  },
  {
   "cell_type": "code",
   "execution_count": 6,
   "metadata": {},
   "outputs": [
    {
     "name": "stdout",
     "output_type": "stream",
     "text": [
      "0\n",
      "1\n",
      "6\n",
      "8\n",
      "9\n"
     ]
    }
   ],
   "source": [
    "s='0123456789'\n",
    "#(a)\n",
    "print(s[0])\n",
    "#(b)\n",
    "print(s[1])\n",
    "#(c)\n",
    "print(s[6])\n",
    "#(d)\n",
    "print(s[-2])\n",
    "#(e)\n",
    "print(s[-1])"
   ]
  },
  {
   "cell_type": "markdown",
   "metadata": {},
   "source": [
    "# practice problem 2.6\n"
   ]
  },
  {
   "cell_type": "code",
   "execution_count": 7,
   "metadata": {},
   "outputs": [
    {
     "name": "stdout",
     "output_type": "stream",
     "text": [
      "bat\n",
      "badminton\n"
     ]
    }
   ],
   "source": [
    "word=['bat','ball','barn','basket','badminton']\n",
    "#(a)\n",
    "print(word[0])\n",
    "#(b)\n",
    "print(word[4])"
   ]
  },
  {
   "cell_type": "markdown",
   "metadata": {},
   "source": [
    "# practice problem 2.7"
   ]
  },
  {
   "cell_type": "code",
   "execution_count": 18,
   "metadata": {
    "scrolled": true
   },
   "outputs": [
    {
     "name": "stdout",
     "output_type": "stream",
     "text": [
      "2\n",
      "[9, 7, 7, 10, 3, 9, 6, 6, 4]\n",
      "10\n",
      "[3, 4, 6, 6, 7, 7, 9, 9, 10]\n",
      "6.777777777777778\n"
     ]
    }
   ],
   "source": [
    "grades=[9,7,7,10,3,9,6,6,2]\n",
    "#(a)\n",
    "print(grades.count(7))\n",
    "#(b)\n",
    "grades[-1]=4\n",
    "print(grades)\n",
    "#(c)'\n",
    "print(max(grades))\n",
    "#(d)\n",
    "grades.sort()\n",
    "print(grades)\n",
    "#(e)\n",
    "SUM=(sum(grades))/len(grades)\n",
    "print(SUM)"
   ]
  },
  {
   "cell_type": "markdown",
   "metadata": {},
   "source": [
    "# practice problem 2.8"
   ]
  },
  {
   "cell_type": "code",
   "execution_count": null,
   "metadata": {},
   "outputs": [],
   "source": [
    "#(a)\n",
    "((2+3)==a)or a>=5\n",
    "#(b)\n",
    "(((lst[1])*(-3))<(-10)) in [0,true]\n",
    "#(c)\n",
    "(((lst[1])*(-3))<(-10))==0\n",
    "#(d)\n",
    "2*(3**2)\n",
    "#(e)\n",
    "(4/2) in [1,2.3] "
   ]
  },
  {
   "cell_type": "markdown",
   "metadata": {},
   "source": [
    "# practice problem 2.9"
   ]
  },
  {
   "cell_type": "code",
   "execution_count": 8,
   "metadata": {},
   "outputs": [
    {
     "name": "stdout",
     "output_type": "stream",
     "text": [
      "<class 'int'>\n",
      "<class 'float'>\n",
      "<class 'int'>\n",
      "<class 'bool'>\n"
     ]
    }
   ],
   "source": [
    "#(a)\n",
    "a=False + False\n",
    "print(type(a))\n",
    "#(b)\n",
    "b=(2)*(3**2.0)\n",
    "print(type(b))\n",
    "#(c)\n",
    "c=(4//2)+(4%2)\n",
    "print(type(c))\n",
    "#(d)\n",
    "d=(2+3==4) or (5>=5)\n",
    "print(type(d))"
   ]
  },
  {
   "cell_type": "markdown",
   "metadata": {},
   "source": [
    "# practice problem 2.10"
   ]
  },
  {
   "cell_type": "code",
   "execution_count": 13,
   "metadata": {},
   "outputs": [
    {
     "name": "stdout",
     "output_type": "stream",
     "text": [
      "5.830951894845301\n",
      "False\n",
      "28.274333882308138\n",
      "True\n"
     ]
    }
   ],
   "source": [
    "import math\n",
    "#(a)\n",
    "a=3\n",
    "b=5\n",
    "lenght=math.sqrt((a**2)+(b**2))\n",
    "print(lenght)\n",
    "#(b)\n",
    "print(lenght==5)\n",
    "#(c)\n",
    "a=3\n",
    "area=(math.pi*(a**2))\n",
    "print(area)\n",
    "#(d)\n",
    "x=2\n",
    "y=4\n",
    "a=1\n",
    "b=2\n",
    "r=3\n",
    "print(((x-a)**2+(y-b)**2)>r)"
   ]
  }
 ],
 "metadata": {
  "kernelspec": {
   "display_name": "Python 3",
   "language": "python",
   "name": "python3"
  },
  "language_info": {
   "codemirror_mode": {
    "name": "ipython",
    "version": 3
   },
   "file_extension": ".py",
   "mimetype": "text/x-python",
   "name": "python",
   "nbconvert_exporter": "python",
   "pygments_lexer": "ipython3",
   "version": "3.7.3"
  }
 },
 "nbformat": 4,
 "nbformat_minor": 2
}
